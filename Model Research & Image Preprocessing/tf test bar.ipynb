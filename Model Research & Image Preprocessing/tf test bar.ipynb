{
 "cells": [
  {
   "cell_type": "code",
   "execution_count": 1,
   "metadata": {},
   "outputs": [
    {
     "name": "stderr",
     "output_type": "stream",
     "text": [
      "Using TensorFlow backend.\n"
     ]
    }
   ],
   "source": [
    "from django.shortcuts import render,get_object_or_404\n",
    "from django.http import HttpResponse\n",
    "import cv2\n",
    "import numpy as np\n",
    "from matplotlib import pyplot as plt\n",
    "import os\n",
    "from keras.preprocessing.image import img_to_array\n",
    "import time\n",
    "import firebase_admin\n",
    "from firebase_admin import credentials\n",
    "from firebase_admin import db\n",
    "import requests\n",
    "import tensorflow\n",
    "from keras.models import load_model"
   ]
  },
  {
   "cell_type": "code",
   "execution_count": 4,
   "metadata": {},
   "outputs": [
    {
     "name": "stdout",
     "output_type": "stream",
     "text": [
      "N:/RiceDetectionGithub/RiceDiseaseDtection_bdFarmer/Django Server/img_process/diseasedetect-e39f6-6d1ebab30232.json\n",
      "Root level\n",
      "Loading Modedl\n",
      "MODEL-LOADED\n",
      "Last id = -1\n"
     ]
    }
   ],
   "source": [
    "BASE_DIR = \"N:/RiceDetectionGithub/RiceDiseaseDtection_bdFarmer/Django Server/img_process\"\n",
    "\n",
    "\n",
    "sJson = BASE_DIR + \"/diseasedetect-e39f6-6d1ebab30232.json\"\n",
    "print(sJson)\n",
    "\n",
    "# Fetch the service account key JSON file contents\n",
    "cred = credentials.Certificate(sJson)\n",
    "# Initialize the app with a service account, granting admin privileges\n",
    "firebase_admin.initialize_app(cred, {\n",
    "    'databaseURL': 'https://diseasedetect-e39f6.firebaseio.com/'\n",
    "})\n",
    "\n",
    "ff = \"Root level\"\n",
    "print(ff)\n",
    "\n",
    "#Keras Model\n",
    "print(\"Loading Modedl\")\n",
    "\n",
    "model = load_model(\"N:/RiceDetectionGithub/tfModels/model1.h5\")\n",
    "graph = tensorflow.get_default_graph()\n",
    "print(\"MODEL-LOADED\")\n",
    "\n",
    "Last_id = -1\n",
    "print(\"Last id = %d\" % Last_id)"
   ]
  },
  {
   "cell_type": "code",
   "execution_count": 5,
   "metadata": {},
   "outputs": [],
   "source": [
    "CATEGORIES = ['Apple___Apple_scab','Apple___Black_rot','Apple___Cedar_apple_rust',\n",
    "\t 'Apple___healthy','Blueberry___healthy',\n",
    "\t 'Cherry_(including_sour)___Powdery_mildew',\n",
    "\t 'Cherry_(including_sour)___healthy',\n",
    "\t 'Corn_(maize)___Cercospora_leaf_spot Gray_leaf_spot',\n",
    "\t 'Corn_(maize)___Common_rust_', 'Corn_(maize)___Northern_Leaf_Blight',\n",
    "\t 'Corn_(maize)___healthy', 'Grape___Black_rot',\n",
    "\t 'Grape___Esca_(Black_Measles)',\n",
    "\t 'Grape___Leaf_blight_(Isariopsis_Leaf_Spot)', 'Grape___healthy',\n",
    "\t 'Orange___Haunglongbing_(Citrus_greening)', 'Peach___Bacterial_spot',\n",
    "\t 'Peach___healthy', 'Pepper,_bell___Bacterial_spot',\n",
    "\t 'Pepper,_bell___healthy', 'Potato___Early_blight', 'Potato___Late_blight',\n",
    "\t 'Potato___healthy', 'Raspberry___healthy', 'Soybean___healthy',\n",
    "\t 'Squash___Powdery_mildew', 'Strawberry___Leaf_scorch',\n",
    "\t 'Strawberry___healthy', 'Tomato___Bacterial_spot', 'Tomato___Early_blight',\n",
    "\t 'Tomato___Late_blight', 'Tomato___Leaf_Mold', 'Tomato___Septoria_leaf_spot',\n",
    "\t 'Tomato___Spider_mites Two-spotted_spider_mite', 'Tomato___Target_Spot',\n",
    "\t 'Tomato___Tomato_Yellow_Leaf_Curl_Virus', 'Tomato___Tomato_mosaic_virus',\n",
    "\t 'Tomato___healthy']"
   ]
  },
  {
   "cell_type": "code",
   "execution_count": 62,
   "metadata": {},
   "outputs": [
    {
     "name": "stdout",
     "output_type": "stream",
     "text": [
      "(256, 256, 3)\n",
      "prediction called\n",
      "[[4.00666788e-04 1.22836440e-07 1.24983270e-11 2.68276409e-07\n",
      "  1.95531182e-08 1.82098558e-10 8.02850693e-08 1.04619096e-06\n",
      "  2.42678061e-06 7.83243886e-11 3.07583221e-08 4.88080021e-10\n",
      "  7.30625738e-09 4.42463184e-11 8.45317913e-12 4.06006097e-11\n",
      "  1.97723149e-09 1.88660820e-09 3.12606107e-06 3.43278543e-08\n",
      "  8.63266469e-04 1.21043421e-12 5.75634651e-09 1.02024034e-13\n",
      "  1.30693380e-07 3.95647585e-05 2.52531684e-09 1.15189469e-10\n",
      "  1.54418985e-13 1.08598242e-09 1.39468692e-09 9.60978852e-10\n",
      "  2.40494611e-08 1.07484832e-09 7.77705544e-09 2.26349243e-14\n",
      "  1.40150558e-09 9.98689115e-01]]\n",
      "[[0.    0.    0.    0.    0.    0.    0.    0.    0.    0.    0.    0.\n",
      "  0.    0.    0.    0.    0.    0.    0.    0.    0.001 0.    0.    0.\n",
      "  0.    0.    0.    0.    0.    0.    0.    0.    0.    0.    0.    0.\n",
      "  0.    0.999]]\n",
      "Image prediction - Tomato___healthy\n",
      "[37]\n"
     ]
    }
   ],
   "source": [
    "readDir = 'N:/Rice Detection/PlantVillage CrodAi-Labeled/TestPicturesColor/Apple___Apple_scab/'\n",
    "writeDir = BASE_DIR + '/Image Resources/'\n",
    "\n",
    "readImage = readDir + '0208f4eb-45a4-4399-904e-989ac2c6257c___FREC_Scab 3037.JPG'\n",
    "\n",
    "#Download and saving image\n",
    "\n",
    "# timestr = time.strftime(\"%Y%m%d-%H%M%S\")\n",
    "# write_url = writeDir +timestr+ '.jpg'\n",
    "# f = open(write_url,'wb')\n",
    "# f.write(requests.get(image_url).content)\n",
    "# f.close()\n",
    "\n",
    "#Import in opencv \n",
    "img = cv2.imread(readImage)\n",
    "a = img.shape\n",
    "print(a)\n",
    "\n",
    "# hue sat value -hsv\n",
    "hsv = cv2.cvtColor(img, cv2.COLOR_BGR2HSV)\n",
    "\n",
    "#Thresholding Segment using hsv\n",
    "lower_green = np.array([0,48,0])\t#lower value \n",
    "upper_green = np.array([255,255,255])\t#upper value\n",
    "\n",
    "mask = cv2.inRange(hsv, lower_green, upper_green)\n",
    "res = cv2.bitwise_and(img,img, mask= mask)\n",
    "\n",
    "\n",
    "\n",
    "write_Orginal = writeDir + 'orginal.jpg'\n",
    "write_mask = writeDir + 'mask.jpg'\n",
    "write_segmented = writeDir + 'segmented.jpg' \n",
    "cv2.imwrite(write_Orginal,img)\n",
    "cv2.imwrite(write_mask,mask)\n",
    "cv2.imwrite(write_segmented,res)\n",
    "\n",
    "\n",
    "\n",
    "\n",
    "IMG_SIZE = 256\n",
    "img_array = cv2.imread(write_Orginal) \n",
    "new_array = cv2.resize(img_array, (IMG_SIZE, IMG_SIZE)) #RESIZE MAGES\n",
    "img_array = img_to_array(new_array)\n",
    "\n",
    "\n",
    "#Normalizing image numpy array\n",
    "np_image_test = np.array(img_array, dtype=np.float16) / 225.0\n",
    "\n",
    "#Expand dimension to predict the model in keras\n",
    "np_image_test = np.expand_dims(np_image_test, axis=0)\n",
    "\n",
    "\n",
    "global graph\n",
    "with graph.as_default():\n",
    "    #Predict image\n",
    "    print(\"prediction called\")\n",
    "    a = model.predict(np_image_test)\n",
    "    print(a)\n",
    "\n",
    "#     pred_list = a[0]*100\n",
    "    pred_list = np.around(a, decimals=3)\n",
    "    print(pred_list)\n",
    "\n",
    "    a = model.predict_classes(np_image_test)\n",
    "\n",
    "    result = CATEGORIES[int(a)]\n",
    "    prediction_result = 'Image prediction - '+ result\n",
    "\n",
    "    print(prediction_result)\n",
    "    print(a)"
   ]
  },
  {
   "cell_type": "code",
   "execution_count": 63,
   "metadata": {},
   "outputs": [],
   "source": [
    "import numpy as np\n",
    "import matplotlib.pyplot as plt\n"
   ]
  },
  {
   "cell_type": "code",
   "execution_count": 64,
   "metadata": {},
   "outputs": [],
   "source": [
    "# y_pos = np.arange(len(CATEGORIES))\n",
    "# plt.bar(y_pos, a, align='center', alpha=0.5)\n",
    "# plt.xticks(y_pos, CATEGORIES)\n",
    "# plt.ylabel('Usage')\n",
    "# plt.title('Programming language usage')\n",
    "# plt.show()"
   ]
  },
  {
   "cell_type": "code",
   "execution_count": 65,
   "metadata": {},
   "outputs": [],
   "source": [
    " p = pred_list[0].tolist()"
   ]
  },
  {
   "cell_type": "code",
   "execution_count": 68,
   "metadata": {},
   "outputs": [
    {
     "data": {
      "text/plain": [
       "[0.0,\n",
       " 0.0,\n",
       " 0.0,\n",
       " 0.0,\n",
       " 0.0,\n",
       " 0.0,\n",
       " 0.0,\n",
       " 0.0,\n",
       " 0.0,\n",
       " 0.0,\n",
       " 0.0,\n",
       " 0.0,\n",
       " 0.0,\n",
       " 0.0,\n",
       " 0.0,\n",
       " 0.0,\n",
       " 0.0,\n",
       " 0.0,\n",
       " 0.0,\n",
       " 0.0,\n",
       " 0.0010000000474974513,\n",
       " 0.0,\n",
       " 0.0,\n",
       " 0.0,\n",
       " 0.0,\n",
       " 0.0,\n",
       " 0.0,\n",
       " 0.0,\n",
       " 0.0,\n",
       " 0.0,\n",
       " 0.0,\n",
       " 0.0,\n",
       " 0.0,\n",
       " 0.0,\n",
       " 0.0,\n",
       " 0.0,\n",
       " 0.0,\n",
       " 0.9990000128746033]"
      ]
     },
     "execution_count": 68,
     "metadata": {},
     "output_type": "execute_result"
    }
   ],
   "source": [
    "p"
   ]
  },
  {
   "cell_type": "code",
   "execution_count": 69,
   "metadata": {},
   "outputs": [
    {
     "data": {
      "text/plain": [
       "[<matplotlib.lines.Line2D at 0x183945a72e8>]"
      ]
     },
     "execution_count": 69,
     "metadata": {},
     "output_type": "execute_result"
    },
    {
     "data": {
      "image/png": "[encoded data removed]",
      "text/plain": [
       "<Figure size 432x288 with 1 Axes>"
      ]
     },
     "metadata": {
      "needs_background": "light"
     },
     "output_type": "display_data"
    }
   ],
   "source": [
    "plt.plot(p,linestyle='--', marker='o', color='b')"
   ]
  },
  {
   "cell_type": "code",
   "execution_count": 70,
   "metadata": {},
   "outputs": [
    {
     "data": {
      "text/plain": [
       "<BarContainer object of 38 artists>"
      ]
     },
     "execution_count": 70,
     "metadata": {},
     "output_type": "execute_result"
    },
    {
     "data": {
      "image/png": "[encoded data removed]",
      "text/plain": [
       "<Figure size 432x288 with 1 Axes>"
      ]
     },
     "metadata": {
      "needs_background": "light"
     },
     "output_type": "display_data"
    }
   ],
   "source": [
    "plt.bar(y_pos,p,align='center', alpha=0.5)\n"
   ]
  },
  {
   "cell_type": "code",
   "execution_count": null,
   "metadata": {},
   "outputs": [],
   "source": []
  },
  {
   "cell_type": "code",
   "execution_count": null,
   "metadata": {},
   "outputs": [],
   "source": []
  }
 ],
 "metadata": {
  "kernelspec": {
   "display_name": "Python 3",
   "language": "python",
   "name": "python3"
  },
  "language_info": {
   "codemirror_mode": {
    "name": "ipython",
    "version": 3
   },
   "file_extension": ".py",
   "mimetype": "text/x-python",
   "name": "python",
   "nbconvert_exporter": "python",
   "pygments_lexer": "ipython3",
   "version": "3.6.7"
  }
 },
 "nbformat": 4,
 "nbformat_minor": 2
}
