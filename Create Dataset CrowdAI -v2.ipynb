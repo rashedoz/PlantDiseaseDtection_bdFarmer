{
 "cells": [
  {
   "cell_type": "code",
   "execution_count": 44,
   "metadata": {},
   "outputs": [],
   "source": [
    "import numpy as np\n",
    "import pickle\n",
    "import cv2\n",
    "from os import listdir\n",
    "from sklearn.preprocessing import LabelBinarizer\n",
    "from keras.models import Sequential\n",
    "from keras.layers.normalization import BatchNormalization\n",
    "from keras.layers.convolutional import Conv2D\n",
    "from keras.layers.convolutional import MaxPooling2D\n",
    "from keras.layers.core import Activation, Flatten, Dropout, Dense\n",
    "from keras import backend as K\n",
    "from keras.preprocessing.image import ImageDataGenerator\n",
    "from keras.optimizers import Adam\n",
    "from keras.preprocessing import image\n",
    "from keras.preprocessing.image import img_to_array\n",
    "from sklearn.preprocessing import MultiLabelBinarizer\n",
    "from sklearn.model_selection import train_test_split\n",
    "import matplotlib.pyplot as plt"
   ]
  },
  {
   "cell_type": "code",
   "execution_count": null,
   "metadata": {},
   "outputs": [],
   "source": []
  },
  {
   "cell_type": "code",
   "execution_count": null,
   "metadata": {},
   "outputs": [],
   "source": []
  },
  {
   "cell_type": "code",
   "execution_count": 2,
   "metadata": {},
   "outputs": [],
   "source": [
    "def convert_image_to_array(image_dir):\n",
    "    try:\n",
    "        image = cv2.imread(image_dir)\n",
    "        if image is not None :\n",
    "            image = cv2.resize(image, default_image_size)   \n",
    "            return img_to_array(image)\n",
    "        else :\n",
    "            return np.array([])\n",
    "    except Exception as e:\n",
    "        print(f\"Error : {e}\")\n",
    "        return None"
   ]
  },
  {
   "cell_type": "code",
   "execution_count": 3,
   "metadata": {},
   "outputs": [],
   "source": [
    "\n",
    "default_image_size = tuple((256, 256))\n",
    "# directory_root = 'C:/Users/Sakib Mukter/Desktop/RiceProject/Segmented/CrowdAI-Train-Test/color'\n",
    "directory_root = 'N:/RiceDetectionGithub/Custom-Train-Test(color)/color'\n",
    "\n",
    "\n",
    "width=256\n",
    "height=256\n",
    "depth=3"
   ]
  },
  {
   "cell_type": "code",
   "execution_count": 45,
   "metadata": {
    "scrolled": true
   },
   "outputs": [
    {
     "name": "stdout",
     "output_type": "stream",
     "text": [
      "[INFO] Loading images ...\n"
     ]
    },
    {
     "name": "stderr",
     "output_type": "stream",
     "text": [
      "\r",
      "  0%|                                                                                      | 0/25 [00:00<?, ?it/s]"
     ]
    },
    {
     "name": "stdout",
     "output_type": "stream",
     "text": [
      "Processing:  Apple___Apple_scab\n",
      "Images:  600\n"
     ]
    },
    {
     "name": "stderr",
     "output_type": "stream",
     "text": [
      "\r",
      "  4%|███                                                                           | 1/25 [00:04<01:54,  4.75s/it]"
     ]
    },
    {
     "name": "stdout",
     "output_type": "stream",
     "text": [
      "Processing:  Apple___Black_rot\n",
      "Images:  591\n"
     ]
    },
    {
     "name": "stderr",
     "output_type": "stream",
     "text": [
      "\r",
      "  8%|██████▏                                                                       | 2/25 [00:12<02:07,  5.53s/it]"
     ]
    },
    {
     "name": "stdout",
     "output_type": "stream",
     "text": [
      "Processing:  Apple___Cedar_apple_rust\n",
      "Images:  245\n"
     ]
    },
    {
     "name": "stderr",
     "output_type": "stream",
     "text": [
      "\r",
      " 12%|█████████▎                                                                    | 3/25 [00:14<01:44,  4.74s/it]"
     ]
    },
    {
     "name": "stdout",
     "output_type": "stream",
     "text": [
      "Processing:  Apple___healthy\n",
      "Images:  1615\n"
     ]
    },
    {
     "name": "stderr",
     "output_type": "stream",
     "text": [
      "\r",
      " 16%|████████████▍                                                                 | 4/25 [00:35<03:19,  9.52s/it]"
     ]
    },
    {
     "name": "stdout",
     "output_type": "stream",
     "text": [
      "Processing:  Corn_(maize)___Cercospora_leaf_spot Gray_leaf_spot\n",
      "Images:  483\n"
     ]
    },
    {
     "name": "stderr",
     "output_type": "stream",
     "text": [
      "\r",
      " 20%|███████████████▌                                                              | 5/25 [00:41<02:48,  8.43s/it]"
     ]
    },
    {
     "name": "stdout",
     "output_type": "stream",
     "text": [
      "Processing:  Corn_(maize)___Common_rust_\n",
      "Images:  1162\n"
     ]
    },
    {
     "name": "stderr",
     "output_type": "stream",
     "text": [
      "\r",
      " 24%|██████████████████▋                                                           | 6/25 [00:55<03:12, 10.12s/it]"
     ]
    },
    {
     "name": "stdout",
     "output_type": "stream",
     "text": [
      "Processing:  Corn_(maize)___healthy\n",
      "Images:  1132\n"
     ]
    },
    {
     "name": "stderr",
     "output_type": "stream",
     "text": [
      "\r",
      " 28%|█████████████████████▊                                                        | 7/25 [01:09<03:20, 11.16s/it]"
     ]
    },
    {
     "name": "stdout",
     "output_type": "stream",
     "text": [
      "Processing:  Corn_(maize)___Northern_Leaf_Blight\n",
      "Images:  955\n"
     ]
    },
    {
     "name": "stderr",
     "output_type": "stream",
     "text": [
      "\r",
      " 32%|████████████████████████▉                                                     | 8/25 [01:20<03:12, 11.32s/it]"
     ]
    },
    {
     "name": "stdout",
     "output_type": "stream",
     "text": [
      "Processing:  Grape___Black_rot\n",
      "Images:  1150\n"
     ]
    },
    {
     "name": "stderr",
     "output_type": "stream",
     "text": [
      "\r",
      " 36%|████████████████████████████                                                  | 9/25 [01:36<03:21, 12.60s/it]"
     ]
    },
    {
     "name": "stdout",
     "output_type": "stream",
     "text": [
      "Processing:  Grape___Esca_(Black_Measles)\n",
      "Images:  1353\n"
     ]
    },
    {
     "name": "stderr",
     "output_type": "stream",
     "text": [
      "\r",
      " 40%|██████████████████████████████▊                                              | 10/25 [01:54<03:32, 14.19s/it]"
     ]
    },
    {
     "name": "stdout",
     "output_type": "stream",
     "text": [
      "Processing:  Grape___healthy\n",
      "Images:  393\n"
     ]
    },
    {
     "name": "stderr",
     "output_type": "stream",
     "text": [
      "\r",
      " 44%|█████████████████████████████████▉                                           | 11/25 [01:58<02:37, 11.27s/it]"
     ]
    },
    {
     "name": "stdout",
     "output_type": "stream",
     "text": [
      "Processing:  Grape___Leaf_blight_(Isariopsis_Leaf_Spot)\n",
      "Images:  1046\n"
     ]
    },
    {
     "name": "stderr",
     "output_type": "stream",
     "text": [
      "\r",
      " 48%|████████████████████████████████████▉                                        | 12/25 [02:10<02:29, 11.53s/it]"
     ]
    },
    {
     "name": "stdout",
     "output_type": "stream",
     "text": [
      "Processing:  Potato___Early_blight\n",
      "Images:  970\n"
     ]
    },
    {
     "name": "stderr",
     "output_type": "stream",
     "text": [
      "\r",
      " 52%|████████████████████████████████████████                                     | 13/25 [02:22<02:19, 11.65s/it]"
     ]
    },
    {
     "name": "stdout",
     "output_type": "stream",
     "text": [
      "Processing:  Potato___healthy\n",
      "Images:  122\n"
     ]
    },
    {
     "name": "stderr",
     "output_type": "stream",
     "text": [
      "\r",
      " 56%|███████████████████████████████████████████                                  | 14/25 [02:24<01:34,  8.57s/it]"
     ]
    },
    {
     "name": "stdout",
     "output_type": "stream",
     "text": [
      "Processing:  Potato___Late_blight\n",
      "Images:  970\n"
     ]
    },
    {
     "name": "stderr",
     "output_type": "stream",
     "text": [
      "\r",
      " 60%|██████████████████████████████████████████████▏                              | 15/25 [02:35<01:34,  9.45s/it]"
     ]
    },
    {
     "name": "stdout",
     "output_type": "stream",
     "text": [
      "Processing:  Tomato___Bacterial_spot\n",
      "Images:  2097\n"
     ]
    },
    {
     "name": "stderr",
     "output_type": "stream",
     "text": [
      "\r",
      " 64%|█████████████████████████████████████████████████▎                           | 16/25 [03:02<02:11, 14.56s/it]"
     ]
    },
    {
     "name": "stdout",
     "output_type": "stream",
     "text": [
      "Processing:  Tomato___Early_blight\n",
      "Images:  970\n"
     ]
    },
    {
     "name": "stderr",
     "output_type": "stream",
     "text": [
      "\r",
      " 68%|████████████████████████████████████████████████████▎                        | 17/25 [03:14<01:51, 13.95s/it]"
     ]
    },
    {
     "name": "stdout",
     "output_type": "stream",
     "text": [
      "Processing:  Tomato___healthy\n",
      "Images:  1561\n"
     ]
    },
    {
     "name": "stderr",
     "output_type": "stream",
     "text": [
      "\r",
      " 72%|███████████████████████████████████████████████████████▍                     | 18/25 [03:36<01:53, 16.26s/it]"
     ]
    },
    {
     "name": "stdout",
     "output_type": "stream",
     "text": [
      "Processing:  Tomato___Late_blight\n",
      "Images:  1879\n"
     ]
    },
    {
     "name": "stderr",
     "output_type": "stream",
     "text": [
      "\r",
      " 76%|██████████████████████████████████████████████████████████▌                  | 19/25 [03:59<01:49, 18.23s/it]"
     ]
    },
    {
     "name": "stdout",
     "output_type": "stream",
     "text": [
      "Processing:  Tomato___Leaf_Mold\n",
      "Images:  922\n"
     ]
    },
    {
     "name": "stderr",
     "output_type": "stream",
     "text": [
      "\r",
      " 80%|█████████████████████████████████████████████████████████████▌               | 20/25 [04:10<01:20, 16.12s/it]"
     ]
    },
    {
     "name": "stdout",
     "output_type": "stream",
     "text": [
      "Processing:  Tomato___Septoria_leaf_spot\n",
      "Images:  1741\n"
     ]
    },
    {
     "name": "stderr",
     "output_type": "stream",
     "text": [
      "\r",
      " 84%|████████████████████████████████████████████████████████████████▋            | 21/25 [04:33<01:12, 18.05s/it]"
     ]
    },
    {
     "name": "stdout",
     "output_type": "stream",
     "text": [
      "Processing:  Tomato___Spider_mites Two-spotted_spider_mite\n",
      "Images:  1646\n"
     ]
    },
    {
     "name": "stderr",
     "output_type": "stream",
     "text": [
      "\r",
      " 88%|███████████████████████████████████████████████████████████████████▊         | 22/25 [04:53<00:56, 18.79s/it]"
     ]
    },
    {
     "name": "stdout",
     "output_type": "stream",
     "text": [
      "Processing:  Tomato___Target_Spot\n",
      "Images:  1374\n"
     ]
    },
    {
     "name": "stderr",
     "output_type": "stream",
     "text": [
      "\r",
      " 92%|██████████████████████████████████████████████████████████████████████▊      | 23/25 [05:10<00:36, 18.26s/it]"
     ]
    },
    {
     "name": "stdout",
     "output_type": "stream",
     "text": [
      "Processing:  Tomato___Tomato_mosaic_virus\n",
      "Images:  343\n"
     ]
    },
    {
     "name": "stderr",
     "output_type": "stream",
     "text": [
      "\r",
      " 96%|█████████████████████████████████████████████████████████████████████████▉   | 24/25 [05:14<00:13, 13.96s/it]"
     ]
    },
    {
     "name": "stdout",
     "output_type": "stream",
     "text": [
      "Processing:  Tomato___Tomato_Yellow_Leaf_Curl_Virus\n",
      "Images:  5327\n"
     ]
    },
    {
     "name": "stderr",
     "output_type": "stream",
     "text": [
      "100%|█████████████████████████████████████████████████████████████████████████████| 25/25 [06:22<00:00, 30.32s/it]\n"
     ]
    }
   ],
   "source": [
    "from tqdm import tqdm\n",
    "\n",
    "image_list, label_list = [], []\n",
    "# write_dir = 'C:/Users/Sakib Mukter/Desktop/RiceProject/Segmented/Processed/'\n",
    "\n",
    "write_dir = 'N:/RiceDetectionGithub/Segmented/Processed'\n",
    "\n",
    "print(\"[INFO] Loading images ...\")\n",
    "root_dir = listdir(directory_root)\n",
    "for img_folder in tqdm(root_dir):\n",
    "    print(\"Processing: \",img_folder)\n",
    "    plant_disease_image_list = listdir(f\"{directory_root}/{img_folder}/\")\n",
    "    print(\"Images: \",len(plant_disease_image_list))\n",
    "    for img_name in plant_disease_image_list:\n",
    "        img_url = directory_root + '/' + img_folder + '/' +img_name\n",
    "        img = cv2.imread(img_url) #reading image\n",
    "        # hue sat value -hsv\n",
    "        hsv = cv2.cvtColor(img, cv2.COLOR_BGR2HSV)\n",
    "        #Green upper and lowerbound\n",
    "        lower_green = np.array([36,0,0])\n",
    "        upper_green = np.array([86,255,255])\n",
    "        \n",
    "        mask = cv2.inRange(hsv, lower_green, upper_green)\n",
    "        \n",
    "        lower_yellow = np.array([15,20,30])\n",
    "        upper_yellow = np.array([86,100,100])\n",
    "        \n",
    "        mask = cv2.inRange(hsv, lower_green, upper_green)\n",
    "        res = cv2.bitwise_and(img,img, mask= mask)\n",
    "#         plt.subplot(131),plt.imshow(img,cmap = 'gray'),plt.title(\"img\")\n",
    "#         plt.xticks([]), plt.yticks([])\n",
    "#         plt.subplot(132),plt.imshow(mask,cmap = 'gray'),plt.title('mask')\n",
    "#         plt.xticks([]), plt.yticks([])\n",
    "#         plt.subplot(133),plt.imshow(res,cmap = 'gray'),plt.title('res')\n",
    "#         plt.xticks([]), plt.yticks([])\n",
    "#         plt.show()\n",
    "        \n",
    "        img_write = write_dir + '/' + img_folder + '/' + img_name\n",
    "        cv2.imwrite(img_write,res)\n",
    "       \n",
    "        \n",
    "    \n",
    "     "
   ]
  },
  {
   "cell_type": "code",
   "execution_count": 29,
   "metadata": {},
   "outputs": [
    {
     "name": "stdout",
     "output_type": "stream",
     "text": [
      "[INFO] Loading images ...\n",
      "Processing:  Apple___Apple_scab\n",
      "Images:  600\n"
     ]
    },
    {
     "data": {
      "image/png": "[encoded data removed]",
      "text/plain": [
       "<Figure size 432x288 with 4 Axes>"
      ]
     },
     "metadata": {},
     "output_type": "display_data"
    },
    {
     "ename": "error",
     "evalue": "OpenCV(3.4.4) C:\\projects\\opencv-python\\opencv\\modules\\imgproc\\src\\grabcut.cpp:381: error: (-215:Assertion failed) !bgdSamples.empty() && !fgdSamples.empty() in function 'initGMMs'\n",
     "output_type": "error",
     "traceback": [
      "\u001b[1;31m---------------------------------------------------------------------------\u001b[0m",
      "\u001b[1;31merror\u001b[0m                                     Traceback (most recent call last)",
      "\u001b[1;32m<ipython-input-29-dfa3e7f46655>\u001b[0m in \u001b[0;36m<module>\u001b[1;34m\u001b[0m\n\u001b[0;32m     69\u001b[0m         \u001b[0mbgdmodel\u001b[0m \u001b[1;33m=\u001b[0m \u001b[0mnp\u001b[0m\u001b[1;33m.\u001b[0m\u001b[0mzeros\u001b[0m\u001b[1;33m(\u001b[0m\u001b[1;33m(\u001b[0m\u001b[1;36m1\u001b[0m\u001b[1;33m,\u001b[0m\u001b[1;36m65\u001b[0m\u001b[1;33m)\u001b[0m\u001b[1;33m,\u001b[0m \u001b[0mnp\u001b[0m\u001b[1;33m.\u001b[0m\u001b[0mfloat64\u001b[0m\u001b[1;33m)\u001b[0m\u001b[1;33m\u001b[0m\u001b[1;33m\u001b[0m\u001b[0m\n\u001b[0;32m     70\u001b[0m         \u001b[0mfgdmodel\u001b[0m \u001b[1;33m=\u001b[0m \u001b[0mnp\u001b[0m\u001b[1;33m.\u001b[0m\u001b[0mzeros\u001b[0m\u001b[1;33m(\u001b[0m\u001b[1;33m(\u001b[0m\u001b[1;36m1\u001b[0m\u001b[1;33m,\u001b[0m\u001b[1;36m65\u001b[0m\u001b[1;33m)\u001b[0m\u001b[1;33m,\u001b[0m \u001b[0mnp\u001b[0m\u001b[1;33m.\u001b[0m\u001b[0mfloat64\u001b[0m\u001b[1;33m)\u001b[0m\u001b[1;33m\u001b[0m\u001b[1;33m\u001b[0m\u001b[0m\n\u001b[1;32m---> 71\u001b[1;33m         \u001b[0mcv2\u001b[0m\u001b[1;33m.\u001b[0m\u001b[0mgrabCut\u001b[0m\u001b[1;33m(\u001b[0m\u001b[0mim\u001b[0m\u001b[1;33m,\u001b[0m \u001b[0mmask\u001b[0m\u001b[1;33m,\u001b[0m \u001b[1;32mNone\u001b[0m\u001b[1;33m,\u001b[0m \u001b[0mbgdmodel\u001b[0m\u001b[1;33m,\u001b[0m \u001b[0mfgdmodel\u001b[0m\u001b[1;33m,\u001b[0m \u001b[1;36m1\u001b[0m\u001b[1;33m,\u001b[0m \u001b[0mcv2\u001b[0m\u001b[1;33m.\u001b[0m\u001b[0mGC_INIT_WITH_MASK\u001b[0m\u001b[1;33m)\u001b[0m\u001b[1;33m\u001b[0m\u001b[1;33m\u001b[0m\u001b[0m\n\u001b[0m\u001b[0;32m     72\u001b[0m \u001b[1;33m\u001b[0m\u001b[0m\n\u001b[0;32m     73\u001b[0m         \u001b[1;31m#show mask\u001b[0m\u001b[1;33m\u001b[0m\u001b[1;33m\u001b[0m\u001b[1;33m\u001b[0m\u001b[0m\n",
      "\u001b[1;31merror\u001b[0m: OpenCV(3.4.4) C:\\projects\\opencv-python\\opencv\\modules\\imgproc\\src\\grabcut.cpp:381: error: (-215:Assertion failed) !bgdSamples.empty() && !fgdSamples.empty() in function 'initGMMs'\n"
     ]
    }
   ],
   "source": [
    "#Contour Extraction\n",
    "\n",
    "image_list, label_list = [], []\n",
    "# write_dir = 'C:/Users/Sakib Mukter/Desktop/RiceProject/Segmented/Processed/'\n",
    "\n",
    "write_dir = 'N:/RiceDetectionGithub/Segmented/Processed'\n",
    "\n",
    "print(\"[INFO] Loading images ...\")\n",
    "root_dir = listdir(directory_root)\n",
    "for img_folder in root_dir:\n",
    "    print(\"Processing: \",img_folder)\n",
    "    plant_disease_image_list = listdir(f\"{directory_root}/{img_folder}/\")\n",
    "    print(\"Images: \",len(plant_disease_image_list))\n",
    "    for img_name in plant_disease_image_list:\n",
    "        img_url = directory_root + '/' + img_folder + '/' +img_name\n",
    "        im = cv2.imread(img_url) #reading image\n",
    "        \n",
    "        #Threshholding contour detect\n",
    "        imgray  = cv2.cvtColor(im,cv2.COLOR_BGR2GRAY)\n",
    "        ret, thresh = cv2.threshold(imgray,127,255,0)\n",
    "        image, contours, hierarchy = cv2.findContours(thresh,cv2.RETR_TREE,cv2.CHAIN_APPROX_SIMPLE)\n",
    "        \n",
    "        \n",
    "        imgc = cv2.drawContours(im, contours, -1, (0,255,0), 3)\n",
    "\n",
    "        #Canny \n",
    "        edges = cv2.Canny(im,100,200)\n",
    "           \n",
    "        plt.subplot(141),plt.imshow(im,cmap = 'gray'),plt.title(\"img\")\n",
    "        plt.xticks([]), plt.yticks([])\n",
    "        plt.subplot(142),plt.imshow(imgray,cmap = 'gray'),plt.title('gray')\n",
    "        plt.xticks([]), plt.yticks([])\n",
    "        plt.subplot(143),plt.imshow(image,cmap = 'gray'),plt.title('image')\n",
    "        plt.xticks([]), plt.yticks([])\n",
    "        plt.subplot(144),plt.imshow(edges,cmap = 'gray'),plt.title('Canny')\n",
    "        plt.xticks([]), plt.yticks([])\n",
    "        plt.show()\n",
    "        \n",
    "        \n",
    "        \n",
    "        img_write = write_dir + '/' + img_folder + '/' + img_name\n",
    "        cv2.imwrite(img_write,res)\n",
    "       \n",
    "        break\n",
    "        "
   ]
  },
  {
   "cell_type": "markdown",
   "metadata": {},
   "source": [
    "## Grabcut"
   ]
  },
  {
   "cell_type": "code",
   "execution_count": 36,
   "metadata": {},
   "outputs": [
    {
     "ename": "error",
     "evalue": "OpenCV(3.4.4) C:\\projects\\opencv-python\\opencv\\modules\\imgproc\\src\\grabcut.cpp:381: error: (-215:Assertion failed) !bgdSamples.empty() && !fgdSamples.empty() in function 'initGMMs'\n",
     "output_type": "error",
     "traceback": [
      "\u001b[1;31m---------------------------------------------------------------------------\u001b[0m",
      "\u001b[1;31merror\u001b[0m                                     Traceback (most recent call last)",
      "\u001b[1;32m<ipython-input-36-30208c808129>\u001b[0m in \u001b[0;36m<module>\u001b[1;34m\u001b[0m\n\u001b[0;32m     28\u001b[0m \u001b[0mbgdmodel\u001b[0m \u001b[1;33m=\u001b[0m \u001b[0mnp\u001b[0m\u001b[1;33m.\u001b[0m\u001b[0mzeros\u001b[0m\u001b[1;33m(\u001b[0m\u001b[1;33m(\u001b[0m\u001b[1;36m1\u001b[0m\u001b[1;33m,\u001b[0m\u001b[1;36m65\u001b[0m\u001b[1;33m)\u001b[0m\u001b[1;33m,\u001b[0m \u001b[0mnp\u001b[0m\u001b[1;33m.\u001b[0m\u001b[0mfloat64\u001b[0m\u001b[1;33m)\u001b[0m\u001b[1;33m\u001b[0m\u001b[1;33m\u001b[0m\u001b[0m\n\u001b[0;32m     29\u001b[0m \u001b[0mfgdmodel\u001b[0m \u001b[1;33m=\u001b[0m \u001b[0mnp\u001b[0m\u001b[1;33m.\u001b[0m\u001b[0mzeros\u001b[0m\u001b[1;33m(\u001b[0m\u001b[1;33m(\u001b[0m\u001b[1;36m1\u001b[0m\u001b[1;33m,\u001b[0m\u001b[1;36m65\u001b[0m\u001b[1;33m)\u001b[0m\u001b[1;33m,\u001b[0m \u001b[0mnp\u001b[0m\u001b[1;33m.\u001b[0m\u001b[0mfloat64\u001b[0m\u001b[1;33m)\u001b[0m\u001b[1;33m\u001b[0m\u001b[1;33m\u001b[0m\u001b[0m\n\u001b[1;32m---> 30\u001b[1;33m \u001b[0mcv2\u001b[0m\u001b[1;33m.\u001b[0m\u001b[0mgrabCut\u001b[0m\u001b[1;33m(\u001b[0m\u001b[0mim\u001b[0m\u001b[1;33m,\u001b[0m \u001b[0mmask\u001b[0m\u001b[1;33m,\u001b[0m \u001b[1;32mNone\u001b[0m\u001b[1;33m,\u001b[0m \u001b[0mbgdmodel\u001b[0m\u001b[1;33m,\u001b[0m \u001b[0mfgdmodel\u001b[0m\u001b[1;33m,\u001b[0m \u001b[1;36m1\u001b[0m\u001b[1;33m,\u001b[0m \u001b[0mcv2\u001b[0m\u001b[1;33m.\u001b[0m\u001b[0mGC_INIT_WITH_MASK\u001b[0m\u001b[1;33m)\u001b[0m\u001b[1;33m\u001b[0m\u001b[1;33m\u001b[0m\u001b[0m\n\u001b[0m\u001b[0;32m     31\u001b[0m \u001b[1;33m\u001b[0m\u001b[0m\n\u001b[0;32m     32\u001b[0m \u001b[1;33m\u001b[0m\u001b[0m\n",
      "\u001b[1;31merror\u001b[0m: OpenCV(3.4.4) C:\\projects\\opencv-python\\opencv\\modules\\imgproc\\src\\grabcut.cpp:381: error: (-215:Assertion failed) !bgdSamples.empty() && !fgdSamples.empty() in function 'initGMMs'\n"
     ]
    }
   ],
   "source": [
    "\n",
    "im = cv2.imread(img_url) #reading image\n",
    "im = cv2.blur(im, (5,5))\n",
    "\n",
    "height, width = im.shape[:2]\n",
    "\n",
    "mask = np.ones(im.shape[:2], dtype=np.uint8) * 2 #start all possible background\n",
    "'''\n",
    "#from docs:\n",
    "0 GC_BGD defines an obvious background pixels.\n",
    "1 GC_FGD defines an obvious foreground (object) pixel.\n",
    "2 GC_PR_BGD defines a possible background pixel.\n",
    "3 GC_PR_FGD defines a possible foreground pixel.\n",
    "'''\n",
    "\n",
    "#2 circles are \"drawn\" on mask. a smaller centered one I assume all pixels are definite foreground. a bigger circle, probably foreground.\n",
    "r = 100\n",
    "cv2.circle(mask, (int(width/2.), int(height/2.)), 2*r, 3, -3) #possible fg\n",
    "#next 2 are greens...dark and bright to increase the number of fg pixels.\n",
    "mask[(im[:,:,0] < 45) & (im[:,:,1] > 55) & (im[:,:,2] < 55)] = 1  #dark green\n",
    "mask[(im[:,:,0] < 190) & (im[:,:,1] > 190) & (im[:,:,2] < 200)] = 1  #bright green\n",
    "mask[(im[:,:,0] > 200) & (im[:,:,1] > 200) & (im[:,:,2] > 200) & (mask != 1)] = 0 #pretty white\n",
    "\n",
    "cv2.circle(mask, (int(width/2.), int(height/2.)), r, 1, -3) #fg\n",
    "\n",
    "\n",
    "\n",
    "bgdmodel = np.zeros((1,65), np.float64)\n",
    "fgdmodel = np.zeros((1,65), np.float64)\n",
    "cv2.grabCut(im, mask, None, bgdmodel, fgdmodel, 1, cv2.GC_INIT_WITH_MASK)\n",
    "\n",
    "\n",
    "plt.figure(figsize=(10,10))\n",
    "plt.imshow(mask)\n",
    "plt.show()\n",
    "\n",
    "#mask image\n",
    "mask2 = np.where((mask==1) + (mask==3), 255, 0).astype('uint8')\n",
    "output = cv2.bitwise_and(im, im, mask=mask2)\n",
    "plt.figure(figsize=(10,10))\n",
    "plt.imshow(output)\n",
    "plt.show()\n",
    "\n"
   ]
  },
  {
   "cell_type": "code",
   "execution_count": 29,
   "metadata": {},
   "outputs": [],
   "source": [
    "import os"
   ]
  },
  {
   "cell_type": "code",
   "execution_count": 32,
   "metadata": {},
   "outputs": [],
   "source": [
    "write_dir = 'C:/Users/Sakib Mukter/Desktop/RiceProject/Segmented/Processed/'\n"
   ]
  },
  {
   "cell_type": "code",
   "execution_count": 36,
   "metadata": {},
   "outputs": [],
   "source": [
    "# for c in root_dir:\n",
    "#     dira = write_dir + '/' + c\n",
    "#     os.mkdir(dira)"
   ]
  },
  {
   "cell_type": "code",
   "execution_count": null,
   "metadata": {},
   "outputs": [],
   "source": []
  }
 ],
 "metadata": {
  "kernelspec": {
   "display_name": "Python 3",
   "language": "python",
   "name": "python3"
  },
  "language_info": {
   "codemirror_mode": {
    "name": "ipython",
    "version": 3
   },
   "file_extension": ".py",
   "mimetype": "text/x-python",
   "name": "python",
   "nbconvert_exporter": "python",
   "pygments_lexer": "ipython3",
   "version": "3.6.7"
  }
 },
 "nbformat": 4,
 "nbformat_minor": 2
}
