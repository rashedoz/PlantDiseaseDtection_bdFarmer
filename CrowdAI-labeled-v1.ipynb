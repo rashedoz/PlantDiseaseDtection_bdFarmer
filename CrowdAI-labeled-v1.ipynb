{
  "cells": [
    {
      "metadata": {
        "_uuid": "8f2839f25d086af736a60e9eeb907d3b93b6e0e5",
        "_cell_guid": "b1076dfc-b9ad-4769-8c92-a6c4dae69d19",
        "trusted": true
      },
      "cell_type": "code",
      "source": "# This Python 3 environment comes with many helpful analytics libraries installed\n# It is defined by the kaggle/python docker image: https://github.com/kaggle/docker-python\n# For example, here's several helpful packages to load in \n\nimport numpy as np # linear algebra\nimport pandas as pd # data processing, CSV file I/O (e.g. pd.read_csv)\n\n# Input data files are available in the \"../input/\" directory.\n# For example, running this (by clicking run or pressing Shift+Enter) will list the files in the input directory\n\nimport os\nprint(os.listdir(\"../input\"))\n\n# Any results you write to the current directory are saved as output.",
      "execution_count": 3,
      "outputs": [
        {
          "output_type": "stream",
          "text": "['color']\n",
          "name": "stdout"
        }
      ]
    },
    {
      "metadata": {
        "_cell_guid": "79c7e3d0-c299-4dcb-8224-4455121ee9b0",
        "_uuid": "d629ff2d2480ee46fbb7e2d37f6b5fab8052498a",
        "trusted": true
      },
      "cell_type": "code",
      "source": "import numpy as np\nimport pickle\nimport cv2\nfrom os import listdir\nfrom sklearn.preprocessing import LabelBinarizer\nfrom keras.models import Sequential\nfrom keras.layers.normalization import BatchNormalization\nfrom keras.layers.convolutional import Conv2D\nfrom keras.layers.convolutional import MaxPooling2D\nfrom keras.layers.core import Activation, Flatten, Dropout, Dense\nfrom keras import backend as K\nfrom keras.preprocessing.image import ImageDataGenerator\nfrom keras.optimizers import Adam\nfrom keras.preprocessing import image\nfrom keras.preprocessing.image import img_to_array\nfrom sklearn.preprocessing import MultiLabelBinarizer\nfrom sklearn.model_selection import train_test_split\nimport matplotlib.pyplot as plt",
      "execution_count": 4,
      "outputs": [
        {
          "output_type": "stream",
          "text": "Using TensorFlow backend.\n",
          "name": "stderr"
        }
      ]
    },
    {
      "metadata": {
        "trusted": true,
        "_uuid": "e7202c801e28125d94402fbc3c4012cfd28036c8"
      },
      "cell_type": "code",
      "source": "EPOCHS = 25\nINIT_LR = 1e-3\nBS = 32\ndefault_image_size = tuple((256, 256))\nimage_size = 0\ndirectory_root = '../input/color/'\nwidth=256\nheight=256\ndepth=3",
      "execution_count": 5,
      "outputs": []
    },
    {
      "metadata": {
        "trusted": true,
        "_uuid": "9659169442aa9d34d097c16a72d2f3021c34116c"
      },
      "cell_type": "code",
      "source": "def convert_image_to_array(image_dir):\n    try:\n        image = cv2.imread(image_dir)\n        if image is not None :\n            image = cv2.resize(image, default_image_size)   \n            return img_to_array(image)\n        else :\n            return np.array([])\n    except Exception as e:\n        print(f\"Error : {e}\")\n        return None",
      "execution_count": 6,
      "outputs": []
    },
    {
      "metadata": {
        "trusted": true,
        "_uuid": "0f24740b443cdd8a5bc0183e4607fcfe18853aee"
      },
      "cell_type": "code",
      "source": "image_list, label_list = [], []\ntry:\n    print(\"[INFO] Loading images ...\")\n    root_dir = listdir(directory_root)\n    for directory in root_dir :\n        # remove .DS_Store from list\n        if directory == \".DS_Store\" :\n            root_dir.remove(directory)\n\n    for plant_folder in root_dir :\n        plant_disease_folder_list = listdir(f\"{directory_root}/{plant_folder}\")\n        \n        for disease_folder in plant_disease_folder_list :\n            # remove .DS_Store from list\n            if disease_folder == \".DS_Store\" :\n                plant_disease_folder_list.remove(disease_folder)\n\n        for plant_disease_folder in plant_disease_folder_list:\n            print(f\"[INFO] Processing {plant_disease_folder} ...\")\n            plant_disease_image_list = listdir(f\"{directory_root}/{plant_folder}/{plant_disease_folder}/\")\n                \n            for single_plant_disease_image in plant_disease_image_list :\n                if single_plant_disease_image == \".DS_Store\" :\n                    plant_disease_image_list.remove(single_plant_disease_image)\n\n            for image in plant_disease_image_list[:200]:\n                image_directory = f\"{directory_root}/{plant_folder}/{plant_disease_folder}/{image}\"\n                if image_directory.endswith(\".jpg\") == True or image_directory.endswith(\".JPG\") == True:\n                    image_list.append(convert_image_to_array(image_directory))\n                    label_list.append(plant_disease_folder)\n    print(\"[INFO] Image loading completed\")  \nexcept Exception as e:\n    print(f\"Error : {e}\")",
      "execution_count": 7,
      "outputs": [
        {
          "output_type": "stream",
          "text": "[INFO] Loading images ...\n[INFO] Processing Grape___Esca_(Black_Measles) ...\n[INFO] Processing Tomato___Early_blight ...\n[INFO] Processing Blueberry___healthy ...\n[INFO] Processing Tomato___Septoria_leaf_spot ...\n[INFO] Processing Tomato___Target_Spot ...\n[INFO] Processing Corn_(maize)___Northern_Leaf_Blight ...\n[INFO] Processing Strawberry___healthy ...\n[INFO] Processing Peach___healthy ...\n[INFO] Processing Grape___Black_rot ...\n[INFO] Processing Pepper,_bell___healthy ...\n[INFO] Processing Tomato___Spider_mites Two-spotted_spider_mite ...\n[INFO] Processing Tomato___Tomato_mosaic_virus ...\n[INFO] Processing Strawberry___Leaf_scorch ...\n[INFO] Processing Apple___Apple_scab ...\n[INFO] Processing Grape___healthy ...\n[INFO] Processing Grape___Leaf_blight_(Isariopsis_Leaf_Spot) ...\n[INFO] Processing Squash___Powdery_mildew ...\n[INFO] Processing Potato___healthy ...\n[INFO] Processing Apple___Black_rot ...\n[INFO] Processing Tomato___Tomato_Yellow_Leaf_Curl_Virus ...\n[INFO] Processing Corn_(maize)___healthy ...\n[INFO] Processing Apple___Cedar_apple_rust ...\n[INFO] Processing Tomato___Bacterial_spot ...\n[INFO] Processing Apple___healthy ...\n[INFO] Processing Orange___Haunglongbing_(Citrus_greening) ...\n[INFO] Processing Pepper,_bell___Bacterial_spot ...\n[INFO] Processing Cherry_(including_sour)___Powdery_mildew ...\n[INFO] Processing Cherry_(including_sour)___healthy ...\n[INFO] Processing Tomato___Leaf_Mold ...\n[INFO] Processing Soybean___healthy ...\n[INFO] Processing Corn_(maize)___Cercospora_leaf_spot Gray_leaf_spot ...\n[INFO] Processing Tomato___Late_blight ...\n[INFO] Processing Peach___Bacterial_spot ...\n[INFO] Processing Corn_(maize)___Common_rust_ ...\n[INFO] Processing Potato___Late_blight ...\n[INFO] Processing Potato___Early_blight ...\n[INFO] Processing Tomato___healthy ...\n[INFO] Processing Raspberry___healthy ...\n[INFO] Image loading completed\n",
          "name": "stdout"
        }
      ]
    },
    {
      "metadata": {
        "trusted": true,
        "_uuid": "44e6d409c8fd40b5701bf9f50468fe3f510331fa"
      },
      "cell_type": "code",
      "source": "image_size = len(image_list)",
      "execution_count": 8,
      "outputs": []
    },
    {
      "metadata": {
        "trusted": true,
        "_uuid": "207bb5acf861ef4451fa8f86257d081c8864265b"
      },
      "cell_type": "code",
      "source": "image_size",
      "execution_count": 9,
      "outputs": [
        {
          "output_type": "execute_result",
          "execution_count": 9,
          "data": {
            "text/plain": "7552"
          },
          "metadata": {}
        }
      ]
    },
    {
      "metadata": {
        "trusted": true,
        "_uuid": "0021d670c37320a5b959cd8434ec01632f0ee456"
      },
      "cell_type": "code",
      "source": "label_binarizer = LabelBinarizer()\nimage_labels = label_binarizer.fit_transform(label_list)\npickle.dump(label_binarizer,open('label_transform.pkl', 'wb'))\nn_classes = len(label_binarizer.classes_)",
      "execution_count": 10,
      "outputs": []
    },
    {
      "metadata": {
        "trusted": true,
        "_uuid": "bf4f96904fb409de530c50156774e3017c9cad28"
      },
      "cell_type": "code",
      "source": "print(label_binarizer.classes_)",
      "execution_count": 11,
      "outputs": [
        {
          "output_type": "stream",
          "text": "['Apple___Apple_scab' 'Apple___Black_rot' 'Apple___Cedar_apple_rust'\n 'Apple___healthy' 'Blueberry___healthy'\n 'Cherry_(including_sour)___Powdery_mildew'\n 'Cherry_(including_sour)___healthy'\n 'Corn_(maize)___Cercospora_leaf_spot Gray_leaf_spot'\n 'Corn_(maize)___Common_rust_' 'Corn_(maize)___Northern_Leaf_Blight'\n 'Corn_(maize)___healthy' 'Grape___Black_rot'\n 'Grape___Esca_(Black_Measles)'\n 'Grape___Leaf_blight_(Isariopsis_Leaf_Spot)' 'Grape___healthy'\n 'Orange___Haunglongbing_(Citrus_greening)' 'Peach___Bacterial_spot'\n 'Peach___healthy' 'Pepper,_bell___Bacterial_spot'\n 'Pepper,_bell___healthy' 'Potato___Early_blight' 'Potato___Late_blight'\n 'Potato___healthy' 'Raspberry___healthy' 'Soybean___healthy'\n 'Squash___Powdery_mildew' 'Strawberry___Leaf_scorch'\n 'Strawberry___healthy' 'Tomato___Bacterial_spot' 'Tomato___Early_blight'\n 'Tomato___Late_blight' 'Tomato___Leaf_Mold' 'Tomato___Septoria_leaf_spot'\n 'Tomato___Spider_mites Two-spotted_spider_mite' 'Tomato___Target_Spot'\n 'Tomato___Tomato_Yellow_Leaf_Curl_Virus' 'Tomato___Tomato_mosaic_virus'\n 'Tomato___healthy']\n",
          "name": "stdout"
        }
      ]
    },
    {
      "metadata": {
        "trusted": true,
        "_uuid": "123a291ea176ac3030877165d8c7047c07eda106"
      },
      "cell_type": "code",
      "source": "np_image_list = np.array(image_list, dtype=np.float16) / 225.0",
      "execution_count": 12,
      "outputs": []
    },
    {
      "metadata": {
        "trusted": true,
        "_uuid": "59c86094137fa2d35e4bf2534856a1cd93c93a83"
      },
      "cell_type": "code",
      "source": "print(\"[INFO] Spliting data to train, test\")\nx_train, x_test, y_train, y_test = train_test_split(np_image_list, image_labels, test_size=0.2, random_state = 42)",
      "execution_count": 13,
      "outputs": [
        {
          "output_type": "stream",
          "text": "[INFO] Spliting data to train, test\n",
          "name": "stdout"
        }
      ]
    },
    {
      "metadata": {
        "trusted": true,
        "_uuid": "396669c435c41c6261d46fce948b278a07a1e144"
      },
      "cell_type": "code",
      "source": "print(len(x_train))\nprint(len(x_test))\nx_train = x_train[:2361]\ny_train = y_train[:2361]\nx_test = x_test[:591]\ny_test= y_test[:591]\n",
      "execution_count": 14,
      "outputs": [
        {
          "output_type": "stream",
          "text": "6041\n1511\n",
          "name": "stdout"
        }
      ]
    },
    {
      "metadata": {
        "trusted": true,
        "_uuid": "e889ab5032676c28805bdfbad67daf76277f41b7"
      },
      "cell_type": "code",
      "source": "y_train",
      "execution_count": 15,
      "outputs": [
        {
          "output_type": "execute_result",
          "execution_count": 15,
          "data": {
            "text/plain": "array([[0, 0, 0, ..., 0, 0, 0],\n       [0, 0, 0, ..., 0, 0, 0],\n       [0, 0, 0, ..., 1, 0, 0],\n       ...,\n       [0, 0, 0, ..., 0, 0, 0],\n       [0, 0, 0, ..., 0, 0, 0],\n       [0, 0, 0, ..., 0, 0, 0]])"
          },
          "metadata": {}
        }
      ]
    },
    {
      "metadata": {
        "trusted": true,
        "_uuid": "a7fd8a005261b8dc083a05c596b33eaa1f4b4a30"
      },
      "cell_type": "code",
      "source": "aug = ImageDataGenerator(\n    rotation_range=25, width_shift_range=0.1,\n    height_shift_range=0.1, shear_range=0.2, \n    zoom_range=0.2,horizontal_flip=True, \n    fill_mode=\"nearest\")",
      "execution_count": 16,
      "outputs": []
    },
    {
      "metadata": {
        "trusted": true,
        "_uuid": "cd0e31d5b438ec8e1c94df619e18eff746bdd437"
      },
      "cell_type": "code",
      "source": "model = Sequential()\ninputShape = (height, width, depth)\nchanDim = -1\nif K.image_data_format() == \"channels_first\":\n    inputShape = (depth, height, width)\n    chanDim = 1\nmodel.add(Conv2D(32, (3, 3), padding=\"same\",input_shape=inputShape))\nmodel.add(Activation(\"relu\"))\nmodel.add(BatchNormalization(axis=chanDim))\nmodel.add(MaxPooling2D(pool_size=(3, 3)))\nmodel.add(Dropout(0.25))\nmodel.add(Conv2D(64, (3, 3), padding=\"same\"))\nmodel.add(Activation(\"relu\"))\nmodel.add(BatchNormalization(axis=chanDim))\nmodel.add(Conv2D(64, (3, 3), padding=\"same\"))\nmodel.add(Activation(\"relu\"))\nmodel.add(BatchNormalization(axis=chanDim))\nmodel.add(MaxPooling2D(pool_size=(2, 2)))\nmodel.add(Dropout(0.25))\nmodel.add(Conv2D(128, (3, 3), padding=\"same\"))\nmodel.add(Activation(\"relu\"))\nmodel.add(BatchNormalization(axis=chanDim))\nmodel.add(Conv2D(128, (3, 3), padding=\"same\"))\nmodel.add(Activation(\"relu\"))\nmodel.add(BatchNormalization(axis=chanDim))\nmodel.add(MaxPooling2D(pool_size=(2, 2)))\nmodel.add(Dropout(0.25))\nmodel.add(Flatten())\nmodel.add(Dense(1024))\nmodel.add(Activation(\"relu\"))\nmodel.add(BatchNormalization())\nmodel.add(Dropout(0.5))\nmodel.add(Dense(n_classes))\nmodel.add(Activation(\"softmax\"))",
      "execution_count": 17,
      "outputs": []
    },
    {
      "metadata": {
        "trusted": true,
        "_uuid": "07fb13e2b8bfb3cb83e92920d4da1fd511c3a170"
      },
      "cell_type": "code",
      "source": "model.summary()",
      "execution_count": 18,
      "outputs": [
        {
          "output_type": "stream",
          "text": "_________________________________________________________________\nLayer (type)                 Output Shape              Param #   \n=================================================================\nconv2d_1 (Conv2D)            (None, 256, 256, 32)      896       \n_________________________________________________________________\nactivation_1 (Activation)    (None, 256, 256, 32)      0         \n_________________________________________________________________\nbatch_normalization_1 (Batch (None, 256, 256, 32)      128       \n_________________________________________________________________\nmax_pooling2d_1 (MaxPooling2 (None, 85, 85, 32)        0         \n_________________________________________________________________\ndropout_1 (Dropout)          (None, 85, 85, 32)        0         \n_________________________________________________________________\nconv2d_2 (Conv2D)            (None, 85, 85, 64)        18496     \n_________________________________________________________________\nactivation_2 (Activation)    (None, 85, 85, 64)        0         \n_________________________________________________________________\nbatch_normalization_2 (Batch (None, 85, 85, 64)        256       \n_________________________________________________________________\nconv2d_3 (Conv2D)            (None, 85, 85, 64)        36928     \n_________________________________________________________________\nactivation_3 (Activation)    (None, 85, 85, 64)        0         \n_________________________________________________________________\nbatch_normalization_3 (Batch (None, 85, 85, 64)        256       \n_________________________________________________________________\nmax_pooling2d_2 (MaxPooling2 (None, 42, 42, 64)        0         \n_________________________________________________________________\ndropout_2 (Dropout)          (None, 42, 42, 64)        0         \n_________________________________________________________________\nconv2d_4 (Conv2D)            (None, 42, 42, 128)       73856     \n_________________________________________________________________\nactivation_4 (Activation)    (None, 42, 42, 128)       0         \n_________________________________________________________________\nbatch_normalization_4 (Batch (None, 42, 42, 128)       512       \n_________________________________________________________________\nconv2d_5 (Conv2D)            (None, 42, 42, 128)       147584    \n_________________________________________________________________\nactivation_5 (Activation)    (None, 42, 42, 128)       0         \n_________________________________________________________________\nbatch_normalization_5 (Batch (None, 42, 42, 128)       512       \n_________________________________________________________________\nmax_pooling2d_3 (MaxPooling2 (None, 21, 21, 128)       0         \n_________________________________________________________________\ndropout_3 (Dropout)          (None, 21, 21, 128)       0         \n_________________________________________________________________\nflatten_1 (Flatten)          (None, 56448)             0         \n_________________________________________________________________\ndense_1 (Dense)              (None, 1024)              57803776  \n_________________________________________________________________\nactivation_6 (Activation)    (None, 1024)              0         \n_________________________________________________________________\nbatch_normalization_6 (Batch (None, 1024)              4096      \n_________________________________________________________________\ndropout_4 (Dropout)          (None, 1024)              0         \n_________________________________________________________________\ndense_2 (Dense)              (None, 38)                38950     \n_________________________________________________________________\nactivation_7 (Activation)    (None, 38)                0         \n=================================================================\nTotal params: 58,126,246\nTrainable params: 58,123,366\nNon-trainable params: 2,880\n_________________________________________________________________\n",
          "name": "stdout"
        }
      ]
    },
    {
      "metadata": {
        "trusted": true,
        "_uuid": "5ab67cdaaf25496339c6f4182aae8cf02725c3c1"
      },
      "cell_type": "code",
      "source": "opt = Adam(lr=INIT_LR, decay=INIT_LR / EPOCHS)\n# distribution\nmodel.compile(loss=\"binary_crossentropy\", optimizer=opt,metrics=[\"accuracy\"])\n# train the network\nprint(\"[INFO] training network...\")",
      "execution_count": 19,
      "outputs": [
        {
          "output_type": "stream",
          "text": "[INFO] training network...\n",
          "name": "stdout"
        }
      ]
    },
    {
      "metadata": {
        "trusted": true,
        "_uuid": "85771b22cb9e312ac450bcc30fe3213ce873f951"
      },
      "cell_type": "code",
      "source": "model.fit(x_train, y_train, batch_size=32, epochs=3, validation_split=0.3)",
      "execution_count": 20,
      "outputs": [
        {
          "output_type": "stream",
          "text": "Train on 1652 samples, validate on 709 samples\nEpoch 1/3\n1652/1652 [==============================] - 26s 16ms/step - loss: 0.0967 - acc: 0.9738 - val_loss: 0.0860 - val_acc: 0.9728\nEpoch 2/3\n1652/1652 [==============================] - 18s 11ms/step - loss: 0.0498 - acc: 0.9831 - val_loss: 0.0870 - val_acc: 0.9761\nEpoch 3/3\n1652/1652 [==============================] - 18s 11ms/step - loss: 0.0365 - acc: 0.9871 - val_loss: 0.1069 - val_acc: 0.9763\n",
          "name": "stdout"
        },
        {
          "output_type": "execute_result",
          "execution_count": 20,
          "data": {
            "text/plain": "<keras.callbacks.History at 0x7f743948d320>"
          },
          "metadata": {}
        }
      ]
    },
    {
      "metadata": {
        "trusted": true,
        "_uuid": "4206e0330d31ec12de9471538ebcd03ffacd499b"
      },
      "cell_type": "code",
      "source": "",
      "execution_count": null,
      "outputs": []
    },
    {
      "metadata": {
        "trusted": true,
        "_uuid": "d7812acad2f64e8da660fff6ebced8204e6849c1"
      },
      "cell_type": "code",
      "source": "# history = model.fit_generator(\n#     aug.flow(x_train, y_train, batch_size=BS),\n#     validation_data=(x_test, y_test),\n#     steps_per_epoch=len(x_train) // BS,\n#     epochs=EPOCHS, verbose=1\n#     )",
      "execution_count": 21,
      "outputs": []
    },
    {
      "metadata": {
        "trusted": true,
        "_uuid": "cf6d3587363029ae8f9159f4089b1fa19f753cc0"
      },
      "cell_type": "code",
      "source": "# acc = history.history['acc']\n# val_acc = history.history['val_acc']\n# loss = history.history['loss']\n# val_loss = history.history['val_loss']\n# epochs = range(1, len(acc) + 1)\n# #Train and validation accuracy\n# plt.plot(epochs, acc, 'b', label='Training accurarcy')\n# plt.plot(epochs, val_acc, 'r', label='Validation accurarcy')\n# plt.title('Training and Validation accurarcy')\n# plt.legend()\n\n# plt.figure()\n# #Train and validation loss\n# plt.plot(epochs, loss, 'b', label='Training loss')\n# plt.plot(epochs, val_loss, 'r', label='Validation loss')\n# plt.title('Training and Validation loss')\n# plt.legend()\n# plt.show()",
      "execution_count": 22,
      "outputs": []
    },
    {
      "metadata": {
        "trusted": true,
        "_uuid": "cdbe3587fe6b808013b13b538cc7f922cb280cda"
      },
      "cell_type": "code",
      "source": "print(\"[INFO] Calculating model accuracy\")\nscores = model.evaluate(x_test, y_test)\nprint(f\"Test Accuracy: {scores[1]*100}\")",
      "execution_count": 23,
      "outputs": [
        {
          "output_type": "stream",
          "text": "[INFO] Calculating model accuracy\n591/591 [==============================] - 2s 4ms/step\nTest Accuracy: 97.54652865041936\n",
          "name": "stdout"
        }
      ]
    },
    {
      "metadata": {
        "trusted": true,
        "_uuid": "a3158fce63377b156d91b40a091d8929aadc37c9"
      },
      "cell_type": "code",
      "source": "# save the model to disk\nprint(\"[INFO] Saving model...\")\npickle.dump(model,open('cnn_model.pkl', 'wb'))",
      "execution_count": null,
      "outputs": [
        {
          "output_type": "stream",
          "text": "[INFO] Saving model...\n",
          "name": "stdout"
        }
      ]
    },
    {
      "metadata": {
        "trusted": true,
        "_uuid": "9274ecafcecba625223ec34dfdf7af5861ed2b2b"
      },
      "cell_type": "code",
      "source": "",
      "execution_count": null,
      "outputs": []
    },
    {
      "metadata": {
        "trusted": true,
        "_uuid": "c3486526ad5360f7b6fc802a9b77b342ab1b569c"
      },
      "cell_type": "code",
      "source": "",
      "execution_count": null,
      "outputs": []
    },
    {
      "metadata": {
        "trusted": true,
        "_uuid": "655e1ff681439527fa2bb875681a4ceadcc51839"
      },
      "cell_type": "code",
      "source": "",
      "execution_count": null,
      "outputs": []
    },
    {
      "metadata": {
        "trusted": true,
        "_uuid": "aaeb6e9108265a1e8987185e2eef5089fee041a4"
      },
      "cell_type": "code",
      "source": "",
      "execution_count": null,
      "outputs": []
    }
  ],
  "metadata": {
    "kernelspec": {
      "display_name": "Python 3",
      "language": "python",
      "name": "python3"
    },
    "language_info": {
      "name": "python",
      "version": "3.6.6",
      "mimetype": "text/x-python",
      "codemirror_mode": {
        "name": "ipython",
        "version": 3
      },
      "pygments_lexer": "ipython3",
      "nbconvert_exporter": "python",
      "file_extension": ".py"
    }
  },
  "nbformat": 4,
  "nbformat_minor": 1
}